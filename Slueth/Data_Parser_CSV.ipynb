{
 "cells": [
  {
   "cell_type": "code",
   "execution_count": null,
   "metadata": {},
   "outputs": [],
   "source": [
    "import Models as models\n",
    "import Model_Utils as model_utils"
   ]
  },
  {
   "cell_type": "code",
   "execution_count": null,
   "metadata": {},
   "outputs": [],
   "source": [
    "train_features, train_labels, test_features, test_labels = model_utils.preprocess_csv(\"Datasets/CDoBT.csv\")"
   ]
  },
  {
   "cell_type": "code",
   "execution_count": null,
   "metadata": {},
   "outputs": [],
   "source": [
    "# Multinomial Naive Bayes\n",
    "model_multinomial_bayes = models.create_multinomial_naive_bayes(features=train_features, labels=train_labels)\n",
    "models.evaluate_model(model=model_multinomial_bayes, test_features=test_features, test_labels=test_labels)"
   ]
  },
  {
   "cell_type": "code",
   "execution_count": null,
   "metadata": {},
   "outputs": [],
   "source": [
    "# Complement Naive Bayes\n",
    "model_complement_bayes = models.create_complement_naive_bayes(features=train_features, labels=train_labels)\n",
    "models.evaluate_model(model=model_complement_bayes, test_features=test_features, test_labels=test_labels)"
   ]
  },
  {
   "cell_type": "code",
   "execution_count": null,
   "metadata": {},
   "outputs": [],
   "source": [
    "# Gaussian Naive Bayes\n",
    "model_gaussian_bayes = models.create_gaussian_naive_bayes(features=train_features, labels=train_labels)\n",
    "models.evaluate_model(model=model_gaussian_bayes, test_features=test_features, test_labels=test_labels)"
   ]
  },
  {
   "cell_type": "code",
   "execution_count": null,
   "metadata": {},
   "outputs": [],
   "source": [
    "# Random Forest\n",
    "model_random_forest = models.create_random_forest(features=train_features, labels=train_labels)\n",
    "models.evaluate_model(model=model_random_forest, test_features=test_features, test_labels=test_labels)"
   ]
  },
  {
   "cell_type": "code",
   "execution_count": null,
   "metadata": {},
   "outputs": [],
   "source": [
    "# Decision Tree\n",
    "model_decision_tree = models.create_decision_tree(features=train_features, labels=train_labels)\n",
    "models.evaluate_model(model=model_decision_tree, test_features=test_features, test_labels=test_labels)"
   ]
  },
  {
   "cell_type": "code",
   "execution_count": null,
   "metadata": {},
   "outputs": [],
   "source": [
    "# K-Nearest Neighbors\n",
    "model_knn = models.create_knn(features=train_features, labels=train_labels)\n",
    "models.evaluate_model(model=model_knn, test_features=test_features, test_labels=test_labels)"
   ]
  },
  {
   "cell_type": "code",
   "execution_count": null,
   "metadata": {},
   "outputs": [],
   "source": [
    "# C-Support Vector Classification\n",
    "model_svm = models.create_svc(features=train_features, labels=train_labels)\n",
    "models.evaluate_model(model=model_svm, test_features=test_features, test_labels=test_labels)"
   ]
  },
  {
   "cell_type": "code",
   "execution_count": null,
   "metadata": {},
   "outputs": [],
   "source": [
    "model_neural_network_mk_1 = models.create_neural_network_mk_1(train_features=train_features, train_labels=train_labels)\n",
    "models.evaluate_neural_network(trained_model=model_neural_network_mk_1, test_features=test_features, test_labels=test_labels)"
   ]
  },
  {
   "cell_type": "code",
   "execution_count": null,
   "metadata": {},
   "outputs": [],
   "source": [
    "model_neural_network_mk_2 = models.create_neural_network_mk_2(train_features=train_features, train_labels=train_labels)\n",
    "models.evaluate_neural_network(trained_model=model_neural_network_mk_2, test_features=test_features, test_labels=test_labels)"
   ]
  },
  {
   "cell_type": "code",
   "execution_count": null,
   "metadata": {},
   "outputs": [],
   "source": [
    "model_neural_network_mk_3 = models.create_neural_network_mk_3(train_features=train_features, train_labels=train_labels)\n",
    "models.evaluate_neural_network(trained_model=model_neural_network_mk_3, test_features=test_features, test_labels=test_labels, normalise=True)"
   ]
  },
  {
   "cell_type": "code",
   "execution_count": null,
   "metadata": {},
   "outputs": [],
   "source": [
    "model_neural_network_mk_4 = models.create_neural_network_mk_4(train_features=train_features, train_labels=train_labels)\n",
    "models.evaluate_neural_network(trained_model=model_neural_network_mk_4, test_features=test_features, test_labels=test_labels, normalise=True, encoding=True)"
   ]
  }
 ],
 "metadata": {
  "kernelspec": {
   "display_name": "Python 3",
   "language": "python",
   "name": "python3"
  },
  "language_info": {
   "codemirror_mode": {
    "name": "ipython",
    "version": 3
   },
   "file_extension": ".py",
   "mimetype": "text/x-python",
   "name": "python",
   "nbconvert_exporter": "python",
   "pygments_lexer": "ipython3",
   "version": "3.11.4"
  },
  "orig_nbformat": 4
 },
 "nbformat": 4,
 "nbformat_minor": 2
}
