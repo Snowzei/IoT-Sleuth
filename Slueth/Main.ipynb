{
 "cells": [
  {
   "cell_type": "code",
   "execution_count": 1,
   "metadata": {},
   "outputs": [],
   "source": [
    "import Models as models\n",
    "import Model_Utils as model_utils"
   ]
  },
  {
   "cell_type": "code",
   "execution_count": 2,
   "metadata": {},
   "outputs": [],
   "source": [
    "train_features, train_labels, test_features, test_labels = model_utils.preprocess_csv(\"Datasets/CDoBT.csv\")"
   ]
  },
  {
   "cell_type": "markdown",
   "metadata": {},
   "source": [
    "## Model Tests\n",
    "\n",
    "In this section there are tests of various machine learning models on our dataset. We evaluate the performance of the following models:\n",
    "\n",
    "1. **Multinomial Naive Bayes:**\n",
    "   A probabilistic model that is commonly used for text classification tasks. It assumes that features are conditionally independent given the class label.\n",
    "\n",
    "2. **Complement Naive Bayes:**\n",
    "   An extension of the Multinomial Naive Bayes model that is designed to address the issue of imbalanced class distributions.\n",
    "\n",
    "3. **Gaussian Naive Bayes:**\n",
    "   A variant of Naive Bayes that assumes that features follow a Gaussian (normal) distribution within each class.\n",
    "\n",
    "4. **Random Forest:**\n",
    "   An ensemble learning method that combines multiple decision trees to improve predictive accuracy and control overfitting.\n",
    "\n",
    "5. **Decision Tree:**\n",
    "   A simple model that uses a tree-like structure to make decisions based on feature values.\n",
    "\n",
    "6. **K-Nearest Neighbors (KNN):**\n",
    "   An instance-based learning algorithm that makes predictions by finding the majority class among the k nearest neighbors of a given data point.\n",
    "\n",
    "7. **C-Support Vector Classification (SVC):**\n",
    "   A type of Support Vector Machine (SVM) used for binary classification. It seeks to find a hyperplane that maximizes the margin between classes."
   ]
  },
  {
   "cell_type": "code",
   "execution_count": null,
   "metadata": {},
   "outputs": [],
   "source": [
    "# Multinomial Naive Bayes\n",
    "model_multinomial_bayes = models.create_multinomial_naive_bayes(features=train_features, labels=train_labels)\n",
    "models.evaluate_model(model=model_multinomial_bayes, test_features=test_features, test_labels=test_labels)"
   ]
  },
  {
   "cell_type": "code",
   "execution_count": null,
   "metadata": {},
   "outputs": [],
   "source": [
    "# Complement Naive Bayes\n",
    "model_complement_bayes = models.create_complement_naive_bayes(features=train_features, labels=train_labels)\n",
    "models.evaluate_model(model=model_complement_bayes, test_features=test_features, test_labels=test_labels)"
   ]
  },
  {
   "cell_type": "code",
   "execution_count": null,
   "metadata": {},
   "outputs": [],
   "source": [
    "# Gaussian Naive Bayes\n",
    "model_gaussian_bayes = models.create_gaussian_naive_bayes(features=train_features, labels=train_labels)\n",
    "models.evaluate_model(model=model_gaussian_bayes, test_features=test_features, test_labels=test_labels)"
   ]
  },
  {
   "cell_type": "code",
   "execution_count": 3,
   "metadata": {},
   "outputs": [
    {
     "name": "stdout",
     "output_type": "stream",
     "text": [
      "Test accuracy: 0.5917490914836467\n"
     ]
    }
   ],
   "source": [
    "# Random Forest\n",
    "model_random_forest = models.create_random_forest(features=train_features, labels=train_labels)\n",
    "models.evaluate_model(model=model_random_forest, test_features=test_features, test_labels=test_labels, scaling_and_processing=True)"
   ]
  },
  {
   "cell_type": "code",
   "execution_count": 4,
   "metadata": {},
   "outputs": [
    {
     "name": "stdout",
     "output_type": "stream",
     "text": [
      "Test accuracy: 0.5975067151208722\n"
     ]
    }
   ],
   "source": [
    "# Decision Tree\n",
    "model_decision_tree = models.create_decision_tree(features=train_features, labels=train_labels)\n",
    "models.evaluate_model(model=model_decision_tree, test_features=test_features, test_labels=test_labels, scaling_and_processing=True)"
   ]
  },
  {
   "cell_type": "code",
   "execution_count": null,
   "metadata": {},
   "outputs": [],
   "source": [
    "# K-Nearest Neighbors\n",
    "model_knn = models.create_knn(features=train_features, labels=train_labels)\n",
    "models.evaluate_model(model=model_knn, test_features=test_features, test_labels=test_labels)"
   ]
  },
  {
   "cell_type": "code",
   "execution_count": null,
   "metadata": {},
   "outputs": [],
   "source": [
    "# C-Support Vector Classification\n",
    "model_svm = models.create_svc(features=train_features, labels=train_labels)\n",
    "models.evaluate_model(model=model_svm, test_features=test_features, test_labels=test_labels)"
   ]
  },
  {
   "cell_type": "markdown",
   "metadata": {},
   "source": []
  },
  {
   "cell_type": "code",
   "execution_count": null,
   "metadata": {},
   "outputs": [],
   "source": [
    "model_neural_network_mk_1 = models.create_neural_network_mk_1(train_features=train_features, train_labels=train_labels)\n",
    "models.evaluate_neural_network(trained_model=model_neural_network_mk_1, test_features=test_features, test_labels=test_labels)"
   ]
  },
  {
   "cell_type": "code",
   "execution_count": null,
   "metadata": {},
   "outputs": [],
   "source": [
    "model_neural_network_mk_2 = models.create_neural_network_mk_2(train_features=train_features, train_labels=train_labels)\n",
    "models.evaluate_neural_network(trained_model=model_neural_network_mk_2, test_features=test_features, test_labels=test_labels)"
   ]
  },
  {
   "cell_type": "code",
   "execution_count": null,
   "metadata": {},
   "outputs": [],
   "source": [
    "model_neural_network_mk_3 = models.create_neural_network_mk_3(train_features=train_features, train_labels=train_labels)\n",
    "models.evaluate_neural_network(trained_model=model_neural_network_mk_3, test_features=test_features, test_labels=test_labels, normalise=True)"
   ]
  },
  {
   "cell_type": "code",
   "execution_count": null,
   "metadata": {},
   "outputs": [],
   "source": [
    "model_neural_network_mk_4 = models.create_neural_network_mk_4(train_features=train_features, train_labels=train_labels, num_epochs=15)\n",
    "models.evaluate_neural_network(trained_model=model_neural_network_mk_4, test_features=test_features, test_labels=test_labels, normalise=True, encoding=True)"
   ]
  }
 ],
 "metadata": {
  "kernelspec": {
   "display_name": "Python 3",
   "language": "python",
   "name": "python3"
  },
  "language_info": {
   "codemirror_mode": {
    "name": "ipython",
    "version": 3
   },
   "file_extension": ".py",
   "mimetype": "text/x-python",
   "name": "python",
   "nbconvert_exporter": "python",
   "pygments_lexer": "ipython3",
   "version": "3.11.4"
  },
  "orig_nbformat": 4
 },
 "nbformat": 4,
 "nbformat_minor": 2
}
