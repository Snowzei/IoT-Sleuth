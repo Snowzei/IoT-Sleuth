{
 "cells": [
  {
   "cell_type": "code",
   "execution_count": 6,
   "metadata": {},
   "outputs": [],
   "source": [
    "import Models as models\n",
    "import Model_Utils as model_utils"
   ]
  },
  {
   "cell_type": "code",
   "execution_count": 27,
   "metadata": {},
   "outputs": [],
   "source": [
    "train_features, train_labels, test_features, test_labels = model_utils.preprocess_csv(\"Datasets/CDoBT.csv\")"
   ]
  },
  {
   "cell_type": "markdown",
   "metadata": {},
   "source": [
    "## Model Tests\n",
    "\n",
    "In this section there are tests of various machine learning models on our dataset. We evaluate the performance of the following models:\n",
    "\n",
    "1. **Multinomial Naive Bayes:**\n",
    "   A probabilistic model that is commonly used for text classification tasks. It assumes that features are conditionally independent given the class label.\n",
    "\n",
    "2. **Complement Naive Bayes:**\n",
    "   An extension of the Multinomial Naive Bayes model that is designed to address the issue of imbalanced class distributions.\n",
    "\n",
    "3. **Gaussian Naive Bayes:**\n",
    "   A variant of Naive Bayes that assumes that features follow a Gaussian (normal) distribution within each class.\n",
    "\n",
    "4. **Random Forest:**\n",
    "   An ensemble learning method that combines multiple decision trees to improve predictive accuracy and control overfitting.\n",
    "\n",
    "5. **Decision Tree:**\n",
    "   A simple model that uses a tree-like structure to make decisions based on feature values.\n",
    "\n",
    "6. **K-Nearest Neighbours (KNN):**\n",
    "   An instance-based learning algorithm that makes predictions by finding the majority class among the k nearest Neighbours of a given data point.\n",
    "\n",
    "7. **C-Support Vector Classification (SVC):**\n",
    "   A type of Support Vector Machine (SVM) used for binary classification. It seeks to find a hyperplane that maximizes the margin between classes."
   ]
  },
  {
   "cell_type": "code",
   "execution_count": 8,
   "metadata": {},
   "outputs": [
    {
     "name": "stdout",
     "output_type": "stream",
     "text": [
      "Test accuracy: 0.10255964607362933\n"
     ]
    }
   ],
   "source": [
    "# Multinomial Naive Bayes\n",
    "model_multinomial_bayes = models.create_multinomial_naive_bayes(features=train_features, labels=train_labels)\n",
    "models.evaluate_model(model=model_multinomial_bayes, test_features=test_features, test_labels=test_labels)"
   ]
  },
  {
   "cell_type": "code",
   "execution_count": 9,
   "metadata": {},
   "outputs": [
    {
     "name": "stdout",
     "output_type": "stream",
     "text": [
      "Test accuracy: 0.08883867909622373\n"
     ]
    },
    {
     "name": "stderr",
     "output_type": "stream",
     "text": [
      "C:\\Users\\joeer\\AppData\\Local\\Packages\\PythonSoftwareFoundation.Python.3.11_qbz5n2kfra8p0\\LocalCache\\local-packages\\Python311\\site-packages\\sklearn\\naive_bayes.py:1048: RuntimeWarning: divide by zero encountered in log\n",
      "  logged = np.log(comp_count / comp_count.sum(axis=1, keepdims=True))\n"
     ]
    }
   ],
   "source": [
    "# Complement Naive Bayes\n",
    "model_complement_bayes = models.create_complement_naive_bayes(features=train_features, labels=train_labels)\n",
    "models.evaluate_model(model=model_complement_bayes, test_features=test_features, test_labels=test_labels)"
   ]
  },
  {
   "cell_type": "code",
   "execution_count": 10,
   "metadata": {},
   "outputs": [
    {
     "name": "stdout",
     "output_type": "stream",
     "text": [
      "Test accuracy: 0.4600695212513825\n"
     ]
    }
   ],
   "source": [
    "# Gaussian Naive Bayes\n",
    "model_gaussian_bayes = models.create_gaussian_naive_bayes(features=train_features, labels=train_labels)\n",
    "models.evaluate_model(model=model_gaussian_bayes, test_features=test_features, test_labels=test_labels)"
   ]
  },
  {
   "cell_type": "code",
   "execution_count": 11,
   "metadata": {},
   "outputs": [
    {
     "name": "stdout",
     "output_type": "stream",
     "text": [
      "Test accuracy: 0.5932437983883709\n"
     ]
    }
   ],
   "source": [
    "# Random Forest\n",
    "model_random_forest = models.create_random_forest(features=train_features, labels=train_labels)\n",
    "models.evaluate_model(model=model_random_forest, test_features=test_features, test_labels=test_labels, scaling_and_processing=True)"
   ]
  },
  {
   "cell_type": "code",
   "execution_count": 12,
   "metadata": {},
   "outputs": [
    {
     "name": "stdout",
     "output_type": "stream",
     "text": [
      "Test accuracy: 0.5995860325485859\n"
     ]
    }
   ],
   "source": [
    "# Decision Tree\n",
    "model_decision_tree = models.create_decision_tree(features=train_features, labels=train_labels)\n",
    "models.evaluate_model(model=model_decision_tree, test_features=test_features, test_labels=test_labels, scaling_and_processing=True)"
   ]
  },
  {
   "cell_type": "code",
   "execution_count": 13,
   "metadata": {},
   "outputs": [
    {
     "name": "stdout",
     "output_type": "stream",
     "text": [
      "Test accuracy: 0.627021646389635\n"
     ]
    }
   ],
   "source": [
    "# K-Nearest Neighbours\n",
    "model_knn = models.create_knn(features=train_features, labels=train_labels)\n",
    "models.evaluate_model(model=model_knn, test_features=test_features, test_labels=test_labels)"
   ]
  },
  {
   "cell_type": "code",
   "execution_count": 14,
   "metadata": {},
   "outputs": [],
   "source": [
    "# C-Support Vector Classification\n",
    "model_svm = models.create_svc(features=train_features, labels=train_labels)\n",
    "models.evaluate_model(model=model_svm, test_features=test_features, test_labels=test_labels)"
   ]
  },
  {
   "cell_type": "markdown",
   "metadata": {},
   "source": [
    "## Exploring Neural Networks\n",
    "\n",
    "In this section I employd a multi-layered feedforward neural network. The best network so far has the following architecture:\n",
    "\n",
    "## Model Architecture\n",
    "\n",
    "- **Input Layer:** The model commences with an input layer, defined by the `input_shape` parameter. This layer accommodates the number of features in the dataset, which is determined by the `scaled_features.shape[1]` value. In this architecture, it consists of 256 neurons.\n",
    "\n",
    "- **Activation Function (ReLU):** The Rectified Linear Unit (ReLU) activation function is applied to the neurons in the input layer. It introduces non-linearity into the model, allowing it to learn complex relationships within the data.\n",
    "\n",
    "- **Batch Normalization:** Following the input layer, a batch normalization layer is added. Batch normalization helps in stabilizing and accelerating the training process by normalizing the activations of the previous layer. It ensures that the input to each neuron has a consistent mean and standard deviation.\n",
    "\n",
    "- **Dropout Layer:** To prevent overfitting and improve the model's generalization, a dropout layer is incorporated after batch normalization. With a dropout rate of 0.5, it randomly drops 50% of the neurons' outputs during training, encouraging the network to learn robust features.\n",
    "\n",
    "- **Hidden Layer:** The model proceeds with a hidden layer consisting of 128 neurons. Similar to the input layer, these neurons are activated using the ReLU function, introducing non-linearity and enhancing the network's capacity to capture intricate patterns in the data.\n",
    "\n",
    "- **Batch Normalization:** As with the previous layers, batch normalization is applied to maintain stable activations.\n",
    "\n",
    "- **Dropout Layer:** Another dropout layer with a rate of 0.3 is inserted after batch normalization. This further mitigates overfitting and promotes model robustness.\n",
    "\n",
    "- **Hidden Layer:** The next hidden layer comprises 64 neurons activated by the ReLU function, providing an additional layer of abstraction and feature extraction.\n",
    "\n",
    "- **Batch Normalization:** Batch normalization is once again applied to maintain consistent activations.\n",
    "\n",
    "- **Output Layer:** The final layer of the model consists of neurons equal to the number of target classes or `num_classes`. It utilizes the softmax activation function, which is well-suited for multi-class classification tasks. The softmax function assigns probabilities to each class, allowing the model to make predictions."
   ]
  },
  {
   "cell_type": "code",
   "execution_count": 15,
   "metadata": {},
   "outputs": [
    {
     "name": "stdout",
     "output_type": "stream",
     "text": [
      "Epoch 1/10\n"
     ]
    },
    {
     "name": "stderr",
     "output_type": "stream",
     "text": [
      "C:\\Users\\joeer\\AppData\\Local\\Packages\\PythonSoftwareFoundation.Python.3.11_qbz5n2kfra8p0\\LocalCache\\local-packages\\Python311\\site-packages\\tensorflow\\python\\framework\\constant_op.py:98: RuntimeWarning: overflow encountered in cast\n",
      "  return ops.EagerTensor(value, ctx.device_name, dtype)\n"
     ]
    },
    {
     "name": "stdout",
     "output_type": "stream",
     "text": [
      "39557/39557 [==============================] - 33s 808us/step - loss: nan - accuracy: 0.0176\n",
      "Epoch 2/10\n",
      "39557/39557 [==============================] - 31s 796us/step - loss: nan - accuracy: 0.0176\n",
      "Epoch 3/10\n",
      "39557/39557 [==============================] - 32s 798us/step - loss: nan - accuracy: 0.0176\n",
      "Epoch 4/10\n",
      "39557/39557 [==============================] - 32s 801us/step - loss: nan - accuracy: 0.0176\n",
      "Epoch 5/10\n",
      "39557/39557 [==============================] - 32s 800us/step - loss: nan - accuracy: 0.0176\n",
      "Epoch 6/10\n",
      "39557/39557 [==============================] - 32s 800us/step - loss: nan - accuracy: 0.0176\n",
      "Epoch 7/10\n",
      "39557/39557 [==============================] - 31s 795us/step - loss: nan - accuracy: 0.0176\n",
      "Epoch 8/10\n",
      "39557/39557 [==============================] - 32s 803us/step - loss: nan - accuracy: 0.0176\n",
      "Epoch 9/10\n",
      "39557/39557 [==============================] - 33s 827us/step - loss: nan - accuracy: 0.0176\n",
      "Epoch 10/10\n",
      "39557/39557 [==============================] - 32s 799us/step - loss: nan - accuracy: 0.0176\n",
      "9890/9890 [==============================] - 7s 679us/step - loss: nan - accuracy: 0.0176\n",
      "Test Loss: nan\n",
      "Test Accuracy: 0.017573077231645584\n"
     ]
    }
   ],
   "source": [
    "# Neural Network Mark 1 \n",
    "model_neural_network_mk_1 = models.create_neural_network_mk_1(train_features=train_features, train_labels=train_labels)\n",
    "models.evaluate_neural_network(trained_model=model_neural_network_mk_1, test_features=test_features, test_labels=test_labels)"
   ]
  },
  {
   "cell_type": "code",
   "execution_count": 16,
   "metadata": {},
   "outputs": [
    {
     "name": "stdout",
     "output_type": "stream",
     "text": [
      "Epoch 1/10\n"
     ]
    },
    {
     "name": "stderr",
     "output_type": "stream",
     "text": [
      "C:\\Users\\joeer\\AppData\\Local\\Packages\\PythonSoftwareFoundation.Python.3.11_qbz5n2kfra8p0\\LocalCache\\local-packages\\Python311\\site-packages\\tensorflow\\python\\framework\\constant_op.py:98: RuntimeWarning: overflow encountered in cast\n",
      "  return ops.EagerTensor(value, ctx.device_name, dtype)\n"
     ]
    },
    {
     "name": "stdout",
     "output_type": "stream",
     "text": [
      "39557/39557 [==============================] - 42s 1ms/step - loss: nan - accuracy: 0.0176\n",
      "Epoch 2/10\n",
      "39557/39557 [==============================] - 42s 1ms/step - loss: nan - accuracy: 0.0176\n",
      "Epoch 3/10\n",
      "39557/39557 [==============================] - 43s 1ms/step - loss: nan - accuracy: 0.0176\n",
      "Epoch 4/10\n",
      "39557/39557 [==============================] - 45s 1ms/step - loss: nan - accuracy: 0.0176\n",
      "Epoch 5/10\n",
      "39557/39557 [==============================] - 45s 1ms/step - loss: nan - accuracy: 0.0176\n",
      "Epoch 6/10\n",
      "39557/39557 [==============================] - 45s 1ms/step - loss: nan - accuracy: 0.0176\n",
      "Epoch 7/10\n",
      "39557/39557 [==============================] - 49s 1ms/step - loss: nan - accuracy: 0.0176\n",
      "Epoch 8/10\n",
      "39557/39557 [==============================] - 48s 1ms/step - loss: nan - accuracy: 0.0176\n",
      "Epoch 9/10\n",
      "39557/39557 [==============================] - 48s 1ms/step - loss: nan - accuracy: 0.0176\n",
      "Epoch 10/10\n",
      "39557/39557 [==============================] - 46s 1ms/step - loss: nan - accuracy: 0.0176\n",
      "9890/9890 [==============================] - 8s 786us/step - loss: nan - accuracy: 0.0176\n",
      "Test Loss: nan\n",
      "Test Accuracy: 0.017573077231645584\n"
     ]
    }
   ],
   "source": [
    "# Neural Network Mark 2\n",
    "model_neural_network_mk_2 = models.create_neural_network_mk_2(train_features=train_features, train_labels=train_labels)\n",
    "models.evaluate_neural_network(trained_model=model_neural_network_mk_2, test_features=test_features, test_labels=test_labels)"
   ]
  },
  {
   "cell_type": "code",
   "execution_count": 17,
   "metadata": {},
   "outputs": [
    {
     "name": "stdout",
     "output_type": "stream",
     "text": [
      "Epoch 1/10\n",
      "39557/39557 [==============================] - 91s 2ms/step - loss: 0.5984 - accuracy: 0.6126\n",
      "Epoch 2/10\n",
      "39557/39557 [==============================] - 93s 2ms/step - loss: 0.5875 - accuracy: 0.6180\n",
      "Epoch 3/10\n",
      "39557/39557 [==============================] - 91s 2ms/step - loss: 0.5862 - accuracy: 0.6197\n",
      "Epoch 4/10\n",
      "39557/39557 [==============================] - 89s 2ms/step - loss: 0.5855 - accuracy: 0.6203\n",
      "Epoch 5/10\n",
      "39557/39557 [==============================] - 92s 2ms/step - loss: 0.5861 - accuracy: 0.6197\n",
      "Epoch 6/10\n",
      "39557/39557 [==============================] - 91s 2ms/step - loss: 0.5850 - accuracy: 0.6210\n",
      "Epoch 7/10\n",
      "39557/39557 [==============================] - 96s 2ms/step - loss: 0.5825 - accuracy: 0.6227\n",
      "Epoch 8/10\n",
      "39557/39557 [==============================] - 95s 2ms/step - loss: 0.5850 - accuracy: 0.6212\n",
      "Epoch 9/10\n",
      "39557/39557 [==============================] - 89s 2ms/step - loss: 0.5834 - accuracy: 0.6220\n",
      "Epoch 10/10\n",
      "39557/39557 [==============================] - 89s 2ms/step - loss: 0.5831 - accuracy: 0.6225\n",
      "9890/9890 [==============================] - 9s 899us/step - loss: 0.5808 - accuracy: 0.6260\n",
      "Test Loss: 0.5807669758796692\n",
      "Test Accuracy: 0.6260104179382324\n"
     ]
    }
   ],
   "source": [
    "# Neural Network Mark 3\n",
    "model_neural_network_mk_3 = models.create_neural_network_mk_3(train_features=train_features, train_labels=train_labels)\n",
    "models.evaluate_neural_network(trained_model=model_neural_network_mk_3, test_features=test_features, test_labels=test_labels, normalise=True)"
   ]
  },
  {
   "cell_type": "code",
   "execution_count": 18,
   "metadata": {},
   "outputs": [
    {
     "name": "stdout",
     "output_type": "stream",
     "text": [
      "Epoch 1/15\n",
      "39557/39557 [==============================] - 110s 3ms/step - loss: 0.5993 - accuracy: 0.6125\n",
      "Epoch 2/15\n",
      "39557/39557 [==============================] - 105s 3ms/step - loss: 0.5879 - accuracy: 0.6180\n",
      "Epoch 3/15\n",
      "39557/39557 [==============================] - 97s 2ms/step - loss: 0.5862 - accuracy: 0.6202\n",
      "Epoch 4/15\n",
      "39557/39557 [==============================] - 94s 2ms/step - loss: 0.5862 - accuracy: 0.6202\n",
      "Epoch 5/15\n",
      "39557/39557 [==============================] - 94s 2ms/step - loss: 0.5852 - accuracy: 0.6208\n",
      "Epoch 6/15\n",
      "39557/39557 [==============================] - 94s 2ms/step - loss: 0.5851 - accuracy: 0.6210\n",
      "Epoch 7/15\n",
      "39557/39557 [==============================] - 94s 2ms/step - loss: 0.5836 - accuracy: 0.6221\n",
      "Epoch 8/15\n",
      "39557/39557 [==============================] - 97s 2ms/step - loss: 0.5844 - accuracy: 0.6215\n",
      "Epoch 9/15\n",
      "39557/39557 [==============================] - 96s 2ms/step - loss: 0.5853 - accuracy: 0.6208\n",
      "Epoch 10/15\n",
      "39557/39557 [==============================] - 95s 2ms/step - loss: 0.5836 - accuracy: 0.6226\n",
      "Epoch 11/15\n",
      "39557/39557 [==============================] - 94s 2ms/step - loss: 0.5835 - accuracy: 0.6227\n",
      "Epoch 12/15\n",
      "39557/39557 [==============================] - 97s 2ms/step - loss: 0.5825 - accuracy: 0.6232\n",
      "Epoch 13/15\n",
      "39557/39557 [==============================] - 99s 2ms/step - loss: 0.5827 - accuracy: 0.6230\n",
      "Epoch 14/15\n",
      "39557/39557 [==============================] - 95s 2ms/step - loss: 0.5830 - accuracy: 0.6229\n",
      "Epoch 15/15\n",
      "39557/39557 [==============================] - 95s 2ms/step - loss: 0.5828 - accuracy: 0.6227\n",
      "9890/9890 [==============================] - 10s 949us/step - loss: 0.5787 - accuracy: 0.6260\n",
      "Test Loss: 0.5787022709846497\n",
      "Test Accuracy: 0.6260040998458862\n"
     ]
    }
   ],
   "source": [
    "# Neural Network Mark 4\n",
    "model_neural_network_mk_4 = models.create_neural_network_mk_4(train_features=train_features, train_labels=train_labels, num_epochs=15)\n",
    "models.evaluate_neural_network(trained_model=model_neural_network_mk_4, test_features=test_features, test_labels=test_labels, normalise=True, encoding=True)"
   ]
  },
  {
   "cell_type": "markdown",
   "metadata": {},
   "source": [
    "### Initial Tests\n",
    "\n",
    "In the next phase of experimentation, one of the columns subjected to exclusion was the \"Length\" column. The decision to drop this column was motivated by the observation that the length of packets can exhibit significant variability across different types of network traffic. As such, it was hypothesized that removing this feature could mitigate potential noise in the dataset and enhance the accuracy of the IoT device identification model."
   ]
  },
  {
   "cell_type": "code",
   "execution_count": 19,
   "metadata": {},
   "outputs": [],
   "source": [
    "# Reprocess the dataset but drop the \"Length\" column\n",
    "train_features, train_labels, test_features, test_labels = model_utils.preprocess_csv(\"Datasets/CDoBT.csv\", drop_length=True)"
   ]
  },
  {
   "cell_type": "code",
   "execution_count": 20,
   "metadata": {},
   "outputs": [
    {
     "name": "stdout",
     "output_type": "stream",
     "text": [
      "Test accuracy: 0.6196808342550166\n"
     ]
    }
   ],
   "source": [
    "# K-Nearest Neighbours\n",
    "model_knn = models.create_knn(features=train_features, labels=train_labels)\n",
    "models.evaluate_model(model=model_knn, test_features=test_features, test_labels=test_labels)"
   ]
  },
  {
   "cell_type": "code",
   "execution_count": 21,
   "metadata": {},
   "outputs": [
    {
     "name": "stdout",
     "output_type": "stream",
     "text": [
      "Epoch 1/10\n",
      "39557/39557 [==============================] - 89s 2ms/step - loss: 0.5985 - accuracy: 0.6119\n",
      "Epoch 2/10\n",
      "39557/39557 [==============================] - 86s 2ms/step - loss: 0.5884 - accuracy: 0.6170\n",
      "Epoch 3/10\n",
      "39557/39557 [==============================] - 86s 2ms/step - loss: 0.5876 - accuracy: 0.6181\n",
      "Epoch 4/10\n",
      "39557/39557 [==============================] - 86s 2ms/step - loss: 0.5872 - accuracy: 0.6188\n",
      "Epoch 5/10\n",
      "39557/39557 [==============================] - 86s 2ms/step - loss: 0.5868 - accuracy: 0.6190\n",
      "Epoch 6/10\n",
      "39557/39557 [==============================] - 86s 2ms/step - loss: 0.5867 - accuracy: 0.6191\n",
      "Epoch 7/10\n",
      "39557/39557 [==============================] - 86s 2ms/step - loss: 0.5866 - accuracy: 0.6192\n",
      "Epoch 8/10\n",
      "39557/39557 [==============================] - 86s 2ms/step - loss: 0.5865 - accuracy: 0.6193\n",
      "Epoch 9/10\n",
      "39557/39557 [==============================] - 86s 2ms/step - loss: 0.5865 - accuracy: 0.6194\n",
      "Epoch 10/10\n",
      "39557/39557 [==============================] - 86s 2ms/step - loss: 0.5864 - accuracy: 0.6194\n",
      "9890/9890 [==============================] - 10s 985us/step - loss: 0.5867 - accuracy: 0.6191\n",
      "Test Loss: 0.5867325663566589\n",
      "Test Accuracy: 0.6190646290779114\n"
     ]
    }
   ],
   "source": [
    "# Neural Network Mark 3\n",
    "model_neural_network_mk_3 = models.create_neural_network_mk_3(train_features=train_features, train_labels=train_labels)\n",
    "models.evaluate_neural_network(trained_model=model_neural_network_mk_3, test_features=test_features, test_labels=test_labels, normalise=True)"
   ]
  },
  {
   "cell_type": "code",
   "execution_count": 22,
   "metadata": {},
   "outputs": [
    {
     "name": "stdout",
     "output_type": "stream",
     "text": [
      "Epoch 1/15\n",
      "39557/39557 [==============================] - 98s 2ms/step - loss: 0.5996 - accuracy: 0.6125\n",
      "Epoch 2/15\n",
      "39557/39557 [==============================] - 94s 2ms/step - loss: 0.5885 - accuracy: 0.6172\n",
      "Epoch 3/15\n",
      "39557/39557 [==============================] - 95s 2ms/step - loss: 0.5879 - accuracy: 0.6182\n",
      "Epoch 4/15\n",
      "39557/39557 [==============================] - 94s 2ms/step - loss: 0.5872 - accuracy: 0.6184\n",
      "Epoch 5/15\n",
      "39557/39557 [==============================] - 93s 2ms/step - loss: 0.5870 - accuracy: 0.6188\n",
      "Epoch 6/15\n",
      "39557/39557 [==============================] - 94s 2ms/step - loss: 0.5869 - accuracy: 0.6189\n",
      "Epoch 7/15\n",
      "39557/39557 [==============================] - 94s 2ms/step - loss: 0.5866 - accuracy: 0.6193\n",
      "Epoch 8/15\n",
      "39557/39557 [==============================] - 94s 2ms/step - loss: 0.5865 - accuracy: 0.6192\n",
      "Epoch 9/15\n",
      "39557/39557 [==============================] - 94s 2ms/step - loss: 0.5864 - accuracy: 0.6194\n",
      "Epoch 10/15\n",
      "39557/39557 [==============================] - 94s 2ms/step - loss: 0.5863 - accuracy: 0.6195\n",
      "Epoch 11/15\n",
      "39557/39557 [==============================] - 94s 2ms/step - loss: 0.5862 - accuracy: 0.6195\n",
      "Epoch 12/15\n",
      "39557/39557 [==============================] - 95s 2ms/step - loss: 0.5862 - accuracy: 0.6197\n",
      "Epoch 13/15\n",
      "39557/39557 [==============================] - 94s 2ms/step - loss: 0.5862 - accuracy: 0.6198\n",
      "Epoch 14/15\n",
      "39557/39557 [==============================] - 95s 2ms/step - loss: 0.5862 - accuracy: 0.6197\n",
      "Epoch 15/15\n",
      "39557/39557 [==============================] - 93s 2ms/step - loss: 0.5861 - accuracy: 0.6199\n",
      "9890/9890 [==============================] - 10s 990us/step - loss: 0.5860 - accuracy: 0.6191\n",
      "Test Loss: 0.5859881639480591\n",
      "Test Accuracy: 0.6191088557243347\n"
     ]
    }
   ],
   "source": [
    "# Neural Network Mark 4\n",
    "model_neural_network_mk_4 = models.create_neural_network_mk_4(train_features=train_features, train_labels=train_labels, num_epochs=15)\n",
    "models.evaluate_neural_network(trained_model=model_neural_network_mk_4, test_features=test_features, test_labels=test_labels, normalise=True, encoding=True)"
   ]
  },
  {
   "cell_type": "markdown",
   "metadata": {},
   "source": [
    "### Subsequent Tests\n",
    "\n",
    "Building upon the insights gained from the initial tests, the feature selection strategy was extended to include the \"Window Size\" column in subsequent experiments. The \"Window Size\" parameter, relevant in TCP communication, similarly displayed considerable variation across network traffic. Its removal was considered in an effort to further refine the dataset and assess its impact on model performance.\n",
    "\n",
    "By systematically evaluating the model's accuracy before and after the exclusion of these specific features, this feature selection strategy aimed to identify the most informative and relevant attributes for IoT device identification. The results of these tests are instrumental in guiding the refinement of the model and enhancing its overall effectiveness."
   ]
  },
  {
   "cell_type": "code",
   "execution_count": 23,
   "metadata": {},
   "outputs": [],
   "source": [
    "# Reprocess the dataset but drop the \"Window Size\" column\n",
    "train_features, train_labels, test_features, test_labels = model_utils.preprocess_csv(\"Datasets/CDoBT.csv\", drop_window_size=True)"
   ]
  },
  {
   "cell_type": "code",
   "execution_count": 24,
   "metadata": {},
   "outputs": [
    {
     "name": "stdout",
     "output_type": "stream",
     "text": [
      "Test accuracy: 0.62330225944067\n"
     ]
    }
   ],
   "source": [
    "# K-Nearest Neighbours\n",
    "model_knn = models.create_knn(features=train_features, labels=train_labels)\n",
    "models.evaluate_model(model=model_knn, test_features=test_features, test_labels=test_labels)"
   ]
  },
  {
   "cell_type": "code",
   "execution_count": 25,
   "metadata": {},
   "outputs": [
    {
     "name": "stdout",
     "output_type": "stream",
     "text": [
      "Epoch 1/10\n",
      "39557/39557 [==============================] - 85s 2ms/step - loss: 0.6157 - accuracy: 0.6099\n",
      "Epoch 2/10\n",
      "39557/39557 [==============================] - 83s 2ms/step - loss: 0.5996 - accuracy: 0.6180\n",
      "Epoch 3/10\n",
      "39557/39557 [==============================] - 84s 2ms/step - loss: 0.5981 - accuracy: 0.6194\n",
      "Epoch 4/10\n",
      "39557/39557 [==============================] - 84s 2ms/step - loss: 0.5974 - accuracy: 0.6200\n",
      "Epoch 5/10\n",
      "39557/39557 [==============================] - 84s 2ms/step - loss: 0.5964 - accuracy: 0.6206\n",
      "Epoch 6/10\n",
      "39557/39557 [==============================] - 85s 2ms/step - loss: 0.5958 - accuracy: 0.6208\n",
      "Epoch 7/10\n",
      "39557/39557 [==============================] - 86s 2ms/step - loss: 0.5959 - accuracy: 0.6211\n",
      "Epoch 8/10\n",
      "39557/39557 [==============================] - 85s 2ms/step - loss: 0.5954 - accuracy: 0.6212\n",
      "Epoch 9/10\n",
      "39557/39557 [==============================] - 85s 2ms/step - loss: 0.5954 - accuracy: 0.6214\n",
      "Epoch 10/10\n",
      "39557/39557 [==============================] - 85s 2ms/step - loss: 0.5950 - accuracy: 0.6213\n",
      "9890/9890 [==============================] - 9s 935us/step - loss: 0.5999 - accuracy: 0.6206\n",
      "Test Loss: 0.5999453663825989\n",
      "Test Accuracy: 0.6206035614013672\n"
     ]
    }
   ],
   "source": [
    "# Neural Network Mark 3\n",
    "model_neural_network_mk_3 = models.create_neural_network_mk_3(train_features=train_features, train_labels=train_labels)\n",
    "models.evaluate_neural_network(trained_model=model_neural_network_mk_3, test_features=test_features, test_labels=test_labels, normalise=True)"
   ]
  },
  {
   "cell_type": "code",
   "execution_count": 26,
   "metadata": {},
   "outputs": [
    {
     "name": "stdout",
     "output_type": "stream",
     "text": [
      "Epoch 1/15\n",
      "39557/39557 [==============================] - 97s 2ms/step - loss: 0.6169 - accuracy: 0.6102\n",
      "Epoch 2/15\n",
      "39557/39557 [==============================] - 94s 2ms/step - loss: 0.6003 - accuracy: 0.6182\n",
      "Epoch 3/15\n",
      "39557/39557 [==============================] - 93s 2ms/step - loss: 0.5989 - accuracy: 0.6191\n",
      "Epoch 4/15\n",
      "39557/39557 [==============================] - 93s 2ms/step - loss: 0.5978 - accuracy: 0.6198\n",
      "Epoch 5/15\n",
      "39557/39557 [==============================] - 94s 2ms/step - loss: 0.5967 - accuracy: 0.6203\n",
      "Epoch 6/15\n",
      "39557/39557 [==============================] - 93s 2ms/step - loss: 0.5963 - accuracy: 0.6206\n",
      "Epoch 7/15\n",
      "39557/39557 [==============================] - 95s 2ms/step - loss: 0.5959 - accuracy: 0.6210\n",
      "Epoch 8/15\n",
      "39557/39557 [==============================] - 95s 2ms/step - loss: 0.5954 - accuracy: 0.6213\n",
      "Epoch 9/15\n",
      "39557/39557 [==============================] - 94s 2ms/step - loss: 0.5954 - accuracy: 0.6213\n",
      "Epoch 10/15\n",
      "39557/39557 [==============================] - 93s 2ms/step - loss: 0.5952 - accuracy: 0.6213\n",
      "Epoch 11/15\n",
      "39557/39557 [==============================] - 95s 2ms/step - loss: 0.5946 - accuracy: 0.6217\n",
      "Epoch 12/15\n",
      "39557/39557 [==============================] - 93s 2ms/step - loss: 0.5944 - accuracy: 0.6217\n",
      "Epoch 13/15\n",
      "39557/39557 [==============================] - 94s 2ms/step - loss: 0.5944 - accuracy: 0.6219\n",
      "Epoch 14/15\n",
      "39557/39557 [==============================] - 93s 2ms/step - loss: 0.5944 - accuracy: 0.6216\n",
      "Epoch 15/15\n",
      "39557/39557 [==============================] - 94s 2ms/step - loss: 0.5944 - accuracy: 0.6217\n",
      "9890/9890 [==============================] - 10s 1ms/step - loss: 0.6001 - accuracy: 0.6206\n",
      "Test Loss: 0.6000670194625854\n",
      "Test Accuracy: 0.6206446290016174\n"
     ]
    }
   ],
   "source": [
    "# Neural Network Mark 4\n",
    "model_neural_network_mk_4 = models.create_neural_network_mk_4(train_features=train_features, train_labels=train_labels, num_epochs=15)\n",
    "models.evaluate_neural_network(trained_model=model_neural_network_mk_4, test_features=test_features, test_labels=test_labels, normalise=True, encoding=True)"
   ]
  }
 ],
 "metadata": {
  "kernelspec": {
   "display_name": "Python 3",
   "language": "python",
   "name": "python3"
  },
  "language_info": {
   "codemirror_mode": {
    "name": "ipython",
    "version": 3
   },
   "file_extension": ".py",
   "mimetype": "text/x-python",
   "name": "python",
   "nbconvert_exporter": "python",
   "pygments_lexer": "ipython3",
   "version": "3.11.4"
  },
  "orig_nbformat": 4
 },
 "nbformat": 4,
 "nbformat_minor": 2
}
